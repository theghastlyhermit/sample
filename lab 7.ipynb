{
 "cells": [
  {
   "cell_type": "markdown",
   "metadata": {},
   "source": [
    "# Student Name: Manan Gupta \n",
    "# Enrollment Number: E18ECE046\n",
    "# Lab assignemnt number: 7"
   ]
  },
  {
   "cell_type": "markdown",
   "metadata": {},
   "source": [
    "## Loops"
   ]
  },
  {
   "cell_type": "markdown",
   "metadata": {},
   "source": [
    "## Compulsary questions"
   ]
  },
  {
   "cell_type": "markdown",
   "metadata": {},
   "source": [
    "#### Syntax of \"for loop\""
   ]
  },
  {
   "cell_type": "raw",
   "metadata": {
    "collapsed": true
   },
   "source": [
    "for iterable_var_name in range(terminating_value):\n",
    "    stmt 1\n",
    "    stmt 2\n",
    "    ...\n",
    "    \n",
    " for iterable_var_name in range(initial_value,terminating_value):\n",
    "    stmt 1\n",
    "    stmt 2\n",
    "    ...\n",
    "    \n",
    " for iterable_var_name in range(initial_value,terminating_value,updation):\n",
    "    stmt 1\n",
    "    stmt 2\n",
    "    ..."
   ]
  },
  {
   "cell_type": "markdown",
   "metadata": {},
   "source": [
    "#### Syntax of \"while loop\""
   ]
  },
  {
   "cell_type": "raw",
   "metadata": {
    "collapsed": true
   },
   "source": [
    "initialization of loop variable\n",
    "while( condition ):\n",
    "    stmt 1\n",
    "    stmt 2\n",
    "    ...\n",
    "    update loop variable"
   ]
  },
  {
   "cell_type": "markdown",
   "metadata": {},
   "source": [
    "#### Syntax of using \"break\" in a loop"
   ]
  },
  {
   "cell_type": "raw",
   "metadata": {},
   "source": [
    "loop (for loop or while loop):\n",
    "    if(cond):\n",
    "        stmt\n",
    "        break\n",
    "    else:\n",
    "        stmt"
   ]
  },
  {
   "cell_type": "markdown",
   "metadata": {},
   "source": [
    "#### Syntax of using \"Continue\" in a loop"
   ]
  },
  {
   "cell_type": "raw",
   "metadata": {},
   "source": [
    "loop (for loop or while loop):\n",
    "    stmt                 #It will be printed always.\n",
    "    if(cond):\n",
    "        continue\n",
    "        stmt             #It will be not printed."
   ]
  },
  {
   "cell_type": "markdown",
   "metadata": {},
   "source": [
    "### 1 Write a program in Python to calculate and print the power m of a number n without using ** operator or pow (n, m) function"
   ]
  },
  {
   "cell_type": "code",
   "execution_count": 4,
   "metadata": {
    "scrolled": false
   },
   "outputs": [
    {
     "name": "stdout",
     "output_type": "stream",
     "text": [
      "enter a number 8\n",
      "enter number of power 5\n",
      "power= 32768\n"
     ]
    }
   ],
   "source": [
    "#Write your code here\n",
    "n=int(input('enter a number '))\n",
    "m=int(input('enter number of power ' ))\n",
    "i=1\n",
    "power=1\n",
    "while(i<=m):\n",
    "    i=i+1\n",
    "    power=power*n\n",
    "print('power=',power)"
   ]
  },
  {
   "cell_type": "markdown",
   "metadata": {},
   "source": [
    "### 2 Write a program in Python to input 8 numbers from user. It should find and print the smallest value among these."
   ]
  },
  {
   "cell_type": "code",
   "execution_count": null,
   "metadata": {},
   "outputs": [],
   "source": [
    "#Write your code here\n",
    "i=1\n",
    "while(i<=8)\n",
    "    int(input('enter a value: '))\n",
    "    i=i+1\n"
   ]
  },
  {
   "cell_type": "markdown",
   "metadata": {},
   "source": [
    "### 3 Write a program in Python to print odd numbers from 1 to 10 except 7. (Hint: use continue statement)"
   ]
  },
  {
   "cell_type": "code",
   "execution_count": 5,
   "metadata": {},
   "outputs": [
    {
     "name": "stdout",
     "output_type": "stream",
     "text": [
      "1\n",
      "3\n",
      "5\n",
      "9\n"
     ]
    }
   ],
   "source": [
    "#Write your code here\n",
    "for i in range(1,10,2):\n",
    "    if(i==7):\n",
    "        continue\n",
    "    print(i)"
   ]
  },
  {
   "cell_type": "markdown",
   "metadata": {},
   "source": [
    "### 4 Write a program in Python to calculate the sum of numbers in the range from m to n which are not divisible by 2 or 3 or 5. where m<n.\n"
   ]
  },
  {
   "cell_type": "code",
   "execution_count": 9,
   "metadata": {
    "scrolled": true
   },
   "outputs": [
    {
     "name": "stdout",
     "output_type": "stream",
     "text": [
      "enter the lower limit of the range required: 5\n",
      "enter the upper limit of the range required: 9\n",
      "sum= 7\n"
     ]
    }
   ],
   "source": [
    "#Write your code here\n",
    "m=int(input(\"enter the lower limit of the range required: \"))\n",
    "n=int(input('enter the upper limit of the range required: '))\n",
    "x=0 \n",
    "for i in range(m,n):\n",
    "    if(i%2==0 or i%3==0 or i%5==0):\n",
    "        continue\n",
    "    x=x+i\n",
    "print(\"sum=\",x)\n",
    "    "
   ]
  },
  {
   "cell_type": "markdown",
   "metadata": {},
   "source": [
    "### 5 Write a program in Python to calculate and print all factors of a number. And think for optimizing the program. (Hint: N/2 Times)"
   ]
  },
  {
   "cell_type": "code",
   "execution_count": 12,
   "metadata": {},
   "outputs": [
    {
     "name": "stdout",
     "output_type": "stream",
     "text": [
      "enter the number whose factors are required 9\n",
      "the factors are \n",
      "1\n",
      "3\n"
     ]
    }
   ],
   "source": [
    "#Write your code here\n",
    "int(input('enter the number whose factors are required '))\n",
    "print('the factors are ')\n",
    "for i in range(1,n//2+1):\n",
    "    if(n%i==0):\n",
    "        print(i)"
   ]
  },
  {
   "cell_type": "markdown",
   "metadata": {},
   "source": [
    "### 6 Write a program in Python to accept one string from user. The program should count and print the number of characters in the string using a for loop, without using inbulit functions."
   ]
  },
  {
   "cell_type": "code",
   "execution_count": 13,
   "metadata": {},
   "outputs": [
    {
     "name": "stdout",
     "output_type": "stream",
     "text": [
      "enter a string: abc\n",
      "3\n"
     ]
    }
   ],
   "source": [
    "#Write your code here #till the string doesn,t get completed the function goes on \n",
    "x=input('enter a string: ')\n",
    "c=0\n",
    "for i in x:\n",
    "    c=c+1\n",
    "print(c)\n",
    "    \n"
   ]
  },
  {
   "cell_type": "markdown",
   "metadata": {},
   "source": [
    "### 7 Write a program in Python to input a sentence with digits also. The program should count the number of uppercase letters, lowercase letters and digits in the sentence."
   ]
  },
  {
   "cell_type": "code",
   "execution_count": 18,
   "metadata": {},
   "outputs": [
    {
     "name": "stdout",
     "output_type": "stream",
     "text": [
      "enter a sentence: h1E\n",
      "lowercase= 1\n",
      "uppercase= 1\n",
      "digits= 1\n"
     ]
    }
   ],
   "source": [
    "#Write your code here\n",
    "x=input(\"enter a sentence: \")\n",
    "low,upp,dig=0,0,0\n",
    "for i in x:\n",
    "    if(i.islower()):\n",
    "        low=low+1\n",
    "    elif(i.isupper()):\n",
    "        upp=upp+1\n",
    "    else:\n",
    "        dig=dig+1\n",
    "print(\"lowercase=\",low)\n",
    "print(\"uppercase=\",upp)\n",
    "print(\"digits=\",dig)"
   ]
  },
  {
   "cell_type": "markdown",
   "metadata": {},
   "source": [
    "### 8 Write a program in Python to accept a maximum 100 names from user. The user can enter 'stop' to exit the loop. The program should print the count of names entered by the user. "
   ]
  },
  {
   "cell_type": "code",
   "execution_count": 1,
   "metadata": {},
   "outputs": [
    {
     "name": "stdout",
     "output_type": "stream",
     "text": [
      "enter a namemanan\n",
      "enter stop to exit loopno\n",
      "enter a nameishita\n",
      "enter stop to exit loopno\n",
      "enter a namevedant\n",
      "enter stop to exit loopno\n",
      "enter a nameavishka \n",
      "enter stop to exit loopstop\n",
      "total number of names entered= 4\n"
     ]
    }
   ],
   "source": [
    "#Write your code here\n",
    "i=1\n",
    "count=0\n",
    "while(i<=100):\n",
    "    name=input(\"enter a name\")\n",
    "    count=count+1\n",
    "    ch=input(\"enter stop to exit loop\")\n",
    "    if(ch==\"stop\"):\n",
    "        break\n",
    "print('total number of names entered=',count)\n",
    "    "
   ]
  },
  {
   "cell_type": "markdown",
   "metadata": {},
   "source": [
    "###  9 Write a program in Python to generate and print Fibonacci series upto first 10 numbers. \n",
    "### The Fibonacci series is 0,1,1,2,3,5,8,13… where first term is 0, second term is 1 and the nth term t(n) = t (n-1) + t (n-2)."
   ]
  },
  {
   "cell_type": "code",
   "execution_count": 3,
   "metadata": {
    "scrolled": true
   },
   "outputs": [
    {
     "name": "stdout",
     "output_type": "stream",
     "text": [
      "0 1 1 2 3 5 8 13 21 34 "
     ]
    }
   ],
   "source": [
    "#Write your code here\n",
    "i=0 \n",
    "nterms=10\n",
    "n1=0\n",
    "n2=1\n",
    "while(i<nterms):\n",
    "    print(n1,end=\" \")\n",
    "    nth=n1+n2\n",
    "    n1=n2\n",
    "    n2=nth\n",
    "    i=i+1"
   ]
  },
  {
   "cell_type": "markdown",
   "metadata": {},
   "source": [
    "### 10 Write a program in Python to generate a number whose triangular number is given.\n",
    "### If number is 4, then the triangular number would be 10 (i.e. 1+2+3+4). The program should return 'ERROR', if it is not a triangular number."
   ]
  },
  {
   "cell_type": "code",
   "execution_count": 6,
   "metadata": {},
   "outputs": [
    {
     "name": "stdout",
     "output_type": "stream",
     "text": [
      "Enter Traingular Number25\n",
      "error\n"
     ]
    }
   ],
   "source": [
    "#Write your code here\n",
    "t= int(input(\"Enter Traingular Number\"))\n",
    "sumo=0\n",
    "for i in range(1,t+1):\n",
    "    sumo=sumo+i\n",
    "    if(sum==t):\n",
    "        print(\"the number required is=\",i)\n",
    "        break\n",
    "    elif(sumo>t):\n",
    "        print(\"error\")\n",
    "        break"
   ]
  },
  {
   "cell_type": "markdown",
   "metadata": {},
   "source": [
    "### 11 Write a program in Python to read a password from the user. If the user types the correct password \"Success\", then display the message, \"Welcome!\". The user should be allowed to enter password only 3 times. If the password is not correct after 3 attempts, then display the message 'Blocked!'."
   ]
  },
  {
   "cell_type": "code",
   "execution_count": null,
   "metadata": {},
   "outputs": [],
   "source": [
    "password='success'\n",
    "i=1\n",
    "while(i<=3):\n",
    "    ch=input(\"enter password=\")\n",
    "    if(ch==password):\n",
    "        print('welcome')\n",
    "    elif(i<3):\n",
    "            print('try again')\n",
    "    else:\n",
    "        print(\"blocked\")\n",
    "        break\n",
    "    i=i+1"
   ]
  },
  {
   "cell_type": "markdown",
   "metadata": {},
   "source": [
    "## Optional questions"
   ]
  },
  {
   "cell_type": "markdown",
   "metadata": {},
   "source": [
    "### 12 Write a program in Python to generate and print Fibonacci series upto n numbers where n is input by user."
   ]
  },
  {
   "cell_type": "code",
   "execution_count": null,
   "metadata": {
    "scrolled": true
   },
   "outputs": [],
   "source": [
    "#Write your code here"
   ]
  },
  {
   "cell_type": "markdown",
   "metadata": {},
   "source": [
    "### 13. Write a program in Python to check the validity of password input by users…….(complete details as given) \n",
    "Validation :\n",
    "\n",
    "At least 1 letter between [a-z] and 1 letter between [A-Z].\n",
    "\n",
    "At least 1 number between [0-9].\n",
    "\n",
    "At least 1 character from [$#@].\n",
    "\n",
    "Minimum length 6 characters.\n",
    "\n",
    "Maximum length 16 characters."
   ]
  },
  {
   "cell_type": "raw",
   "metadata": {},
   "source": [
    "Note: \n",
    "import re   #for searching a pattern in password\n",
    "len()          #For calculating length\n",
    "Example: re.search(\"[a-z]\",p) #to search weather word p has any character between a and z. "
   ]
  },
  {
   "cell_type": "code",
   "execution_count": null,
   "metadata": {},
   "outputs": [],
   "source": [
    "#Write your code here"
   ]
  },
  {
   "cell_type": "markdown",
   "metadata": {},
   "source": [
    "### 14.  Write a program in Python to calculate the least common multiplier (LCM) of any two integer numbers.\n",
    "###  First number 24, Second number 36, LCM= 72"
   ]
  },
  {
   "cell_type": "code",
   "execution_count": null,
   "metadata": {
    "scrolled": true
   },
   "outputs": [],
   "source": [
    "#Write your code here"
   ]
  }
 ],
 "metadata": {
  "kernelspec": {
   "display_name": "Python 3",
   "language": "python",
   "name": "python3"
  },
  "language_info": {
   "codemirror_mode": {
    "name": "ipython",
    "version": 3
   },
   "file_extension": ".py",
   "mimetype": "text/x-python",
   "name": "python",
   "nbconvert_exporter": "python",
   "pygments_lexer": "ipython3",
   "version": "3.6.5"
  }
 },
 "nbformat": 4,
 "nbformat_minor": 2
}
